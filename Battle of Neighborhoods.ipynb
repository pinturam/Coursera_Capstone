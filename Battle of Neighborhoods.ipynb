{
 "cells": [
  {
   "cell_type": "markdown",
   "metadata": {},
   "source": [
    "# Capstone Project - The Battle of Neighborhoods"
   ]
  },
  {
   "cell_type": "markdown",
   "metadata": {},
   "source": [
    "# Section 1: Introduction"
   ]
  },
  {
   "cell_type": "markdown",
   "metadata": {},
   "source": [
    "In this section I will clearly define the idea of my choosing, where I leverage the Foursquare location data to solve the imagined business opportunity."
   ]
  },
  {
   "cell_type": "markdown",
   "metadata": {},
   "source": [
    "## Background"
   ]
  },
  {
   "cell_type": "markdown",
   "metadata": {},
   "source": [
    "There are 100's, maybe even 1000's, of travel sites on the Internet, including FourSquare, that will tell you all about places to go, things to see, restaurants to eat at, bars to drink in, nightclubs to part the night away in and then where to go in the morning to get breakfast and a strong coffee. The problems with these sites is that they are one dimensional. If you want to find out all this information about a city you plan to visit next month, you have to do the hard work. Also, just because a venue is the hottest place to go for a night out does not always mean that the unwitting tourist should just ramble in unprepared. The areas surrounding this new venue might be riddled with crime including muggings, car theft and assault, for example. Approach the venue from any direction other than from the north and you could be putting your life in danger. This is when my idea comes in.\n",
    "\n",
    "Imagine the following scenario:\n",
    "\n",
    "You like to plan ahead and always review your options and make your choices about where you will visit and eat up front before you travel.\n",
    "You are flying to Chicogo for a Data Science Conference.\n",
    "You arrive in Chicago the day the conference starts but you've managed to convince your boss to delay your return by a few days giving you time to explore.\n",
    "But you know no one in Chicago to show you around to all the top sites and to bring you to the best restaurants.\n",
    "Also the last time you went to a conference you were mugged and had you passport. money and credit cards stolen so you're now nervous of going somewhere without first researching the venue and the surrounding area.\n",
    "The conference is next week and you don't have time to do all the research you'd like.\n",
    "What do you do ... ?"
   ]
  },
  {
   "cell_type": "markdown",
   "metadata": {},
   "source": [
    "## Project Idea"
   ]
  },
  {
   "cell_type": "markdown",
   "metadata": {},
   "source": [
    "My idea for the Capstone Project is to show that when driven by venue and location data from FourSquare, backed up with open source crime data, that it is possible to present the cautious and nervous traveller with a list of attractions to visit supplementd with a graphics showing the occurance of crime in the region of the venue.\n",
    "\n",
    "A high level approach is as follows:\n",
    "\n",
    "1. The travellers decides on a city location [in this case Chicago]\n",
    "2. The ForeSquare website is scrapped for the top venues in the city\n",
    "3. From this list of top venues the list is augmented with additional grographical data\n",
    "4. Using this additional geographical data the top nearby restaurents are selects\n",
    "5. The historical crime within a predetermined distance of all venues are obtained\n",
    "6. A map is presented to the to the traveller showing the selected venues and crime statistics of the area.\n",
    "7. The future probability of a crime happening near or around the selected top sites is also presented to the user\n",
    "\n",
    "**Who is this solution targeted at..?**\n",
    "\n",
    "This solution is targeted at the cautious traveller. The want to see all the main sites of a city that they have never visited before but at the same time, for whatever reaons unknown, they want to be able to do all that they can to make sure that they stay clear of trouble i.e. is it safe to visit this venue and this restaurant at 4:00 pm in the afternoon.\n",
    "\n",
    "Some examples of envisioned users include:\n",
    "\n",
    "A single white female traveller\n",
    "An elderly traveller that has had previous back experiences when travelling\n",
    "There are many data science aspect of this project including:\n",
    "\n",
    "1. Data Acquisition\n",
    "2. Data Cleansing\n",
    "3. Data Analysis\n",
    "4. Machine Learning\n",
    "5. Prediction\n",
    "Now that the conference is over the Data Sceintist can explore Chigago and feel much safer."
   ]
  },
  {
   "cell_type": "markdown",
   "metadata": {},
   "source": [
    "# Section 2: Data"
   ]
  },
  {
   "cell_type": "markdown",
   "metadata": {},
   "source": [
    "## Data Description"
   ]
  },
  {
   "cell_type": "markdown",
   "metadata": {},
   "source": [
    "In this section, I will describe the data used to solve the problem as described previously.\n",
    "\n",
    "As noted below in the Further Development Section, it is possible to attempt quite complex and sophisticated scenarios when approaching this problem. However, given the size of the project and for simplicity only the following scenario will be addressed:\n",
    "\n",
    "1. Query the FourSqaure website for the top sites in Chicago\n",
    "2. Use the FourSquare API to get supplemental geographical data about the top sites\n",
    "3. Use the FourSquare API to get top restaurent recommendations closest to each of the top site\n",
    "4. Use open source Chicago Crime data to provide the user with additional crime data"
   ]
  },
  {
   "cell_type": "code",
   "execution_count": null,
   "metadata": {},
   "outputs": [],
   "source": []
  }
 ],
 "metadata": {
  "kernelspec": {
   "display_name": "Python",
   "language": "python",
   "name": "conda-env-python-py"
  },
  "language_info": {
   "codemirror_mode": {
    "name": "ipython",
    "version": 3
   },
   "file_extension": ".py",
   "mimetype": "text/x-python",
   "name": "python",
   "nbconvert_exporter": "python",
   "pygments_lexer": "ipython3",
   "version": "3.6.10"
  }
 },
 "nbformat": 4,
 "nbformat_minor": 4
}
